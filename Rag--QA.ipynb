{
 "cells": [
  {
   "cell_type": "code",
   "execution_count": null,
   "metadata": {},
   "outputs": [],
   "source": [
    "! pip install cohere pinecone-client langchain\n"
   ]
  },
  {
   "cell_type": "code",
   "execution_count": 70,
   "metadata": {},
   "outputs": [],
   "source": [
    "import os\n",
    "import cohere\n",
    "from pinecone import Pinecone, ServerlessSpec\n",
    "from langchain.embeddings import CohereEmbeddings\n",
    "from langchain.vectorstores import Pinecone as LangchainPinecone\n",
    "from langchain.document_loaders import PyPDFLoader\n",
    "from langchain.text_splitter import RecursiveCharacterTextSplitter\n",
    "\n",
    "# Set environment variables for your API keys\n",
    "os.environ['COHERE_API_KEY'] = 'tRElrMvv28BGXpMiE5ixF5MPv19Sl6BB1cRdWlKO'\n",
    "os.environ['PINECONE_API_KEY'] = 'pcsk_7XQ88P_5ANWACLmF8s5A3LZYX8p3g7QzWQSDccFetyZFbMgexXsy1zhkbHhnLfmC5ypzq6'\n",
    "os.environ['PINECONE_ENV'] = 'us-east-1'  # Adjust according to your Pinecone environment\n",
    "\n",
    "# Initialize Cohere client\n",
    "cohere_api_key = os.environ['COHERE_API_KEY']\n",
    "cohere_client = cohere.Client(cohere_api_key)\n",
    "\n",
    "# Initialize Pinecone\n",
    "pc = Pinecone(api_key=os.environ['PINECONE_API_KEY'])  # Updated initialization\n",
    "\n",
    "# Create the Pinecone index if it doesn't exist\n",
    "index_name = \"rag-qa2\"\n",
    "if index_name not in pc.list_indexes().names():\n",
    "    pc.create_index(\n",
    "        name=index_name, \n",
    "        dimension=1024,  # Adjust the dimension to the appropriate value for Cohere\n",
    "        metric='cosine',  # You can use other metrics like cosine or dotproduct\n",
    "        spec=ServerlessSpec(cloud='aws', region='us-east-1')  # Update the spec as necessary\n",
    "    )"
   ]
  },
  {
   "cell_type": "code",
   "execution_count": 77,
   "metadata": {},
   "outputs": [],
   "source": [
    "# Function to read PDF and split it into chunks\n",
    "def read_data_from_doc(file_path):\n",
    "    loader = PyPDFLoader(file_path)\n",
    "    docs = loader.load()\n",
    "    return docs\n",
    "\n",
    "def make_chunks(docs, chunk_len=1000, chunk_overlap=200):\n",
    "    text_splitter = RecursiveCharacterTextSplitter.from_tiktoken_encoder(chunk_size=chunk_len, chunk_overlap=chunk_overlap)\n",
    "    chunks = text_splitter.split_documents(docs)\n",
    "    return chunks\n",
    "\n",
    "# Load and split data\n",
    "data = read_data_from_doc('dataset.pdf')\n",
    "splits = make_chunks(data)"
   ]
  },
  {
   "cell_type": "code",
   "execution_count": 78,
   "metadata": {},
   "outputs": [],
   "source": [
    "embeddings = CohereEmbeddings(model=\"embed-english-v3.0\", user_agent=\"my-app-v1\")\n"
   ]
  },
  {
   "cell_type": "code",
   "execution_count": 79,
   "metadata": {},
   "outputs": [],
   "source": [
    "def index_documents_in_pinecone(chunks, embeddings):\n",
    "    vectorstore = LangchainPinecone.from_documents(\n",
    "        chunks,\n",
    "        embeddings,\n",
    "        index_name=index_name\n",
    "    )\n",
    "    return vectorstore"
   ]
  },
  {
   "cell_type": "code",
   "execution_count": 80,
   "metadata": {},
   "outputs": [],
   "source": [
    "# Step 9: Index the document chunks in Pinecone\n",
    "vectorstore = index_documents_in_pinecone(splits, embeddings)"
   ]
  },
  {
   "cell_type": "code",
   "execution_count": 81,
   "metadata": {},
   "outputs": [],
   "source": [
    "def query_pinecone(prompt, vectorstore):\n",
    "    retriever = vectorstore.as_retriever()\n",
    "    result = retriever.get_relevant_documents(prompt)\n",
    "    \n",
    "    if result:\n",
    "        # Instead of returning just the page content, split it into readable parts\n",
    "        result_text = result[0].page_content\n",
    "        # You can further split the result into sentences or paragraphs if needed\n",
    "        formatted_answer = result_text.replace(\" \", \" \").strip()  # Example of a basic cleanup\n",
    "        return formatted_answer\n",
    "    else:\n",
    "        return \"Sorry, I couldn't find an answer.\""
   ]
  },
  {
   "cell_type": "code",
   "execution_count": null,
   "metadata": {},
   "outputs": [],
   "source": [
    "# Step 11: Test query\n",
    "query = \"How does the proposed Intention-Enhanced Batch Generation method improve similar question generation for customer service chatbots, and what advantages does it offer over traditional approaches?\"\n",
    "answer = query_pinecone(query, vectorstore)\n",
    "print(answer)  # Prints the result of the query"
   ]
  },
  {
   "cell_type": "code",
   "execution_count": null,
   "metadata": {},
   "outputs": [],
   "source": []
  }
 ],
 "metadata": {
  "kernelspec": {
   "display_name": ".venv",
   "language": "python",
   "name": "python3"
  },
  "language_info": {
   "codemirror_mode": {
    "name": "ipython",
    "version": 3
   },
   "file_extension": ".py",
   "mimetype": "text/x-python",
   "name": "python",
   "nbconvert_exporter": "python",
   "pygments_lexer": "ipython3",
   "version": "3.12.4"
  }
 },
 "nbformat": 4,
 "nbformat_minor": 2
}
